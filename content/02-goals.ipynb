{
 "cells": [
  {
   "cell_type": "markdown",
   "id": "a8125c6e-f7e0-4dc7-9718-aea1282adf3a",
   "metadata": {},
   "source": [
    "## Technical Takeaways\n",
    "\n",
    "Firstly, we would like to equip you to be familiar\n",
    "with the NetworkX application programming interface (API).\n",
    "The reason for choosing NetworkX is because\n",
    "it is extremely beginner-friendly,\n",
    "and has an API that matches graph theory concepts very closely.\n",
    "\n",
    "Secondly, we would like to show you how you can visualize graph data\n",
    "in a fashion that doesn't involve showing mere hairballs.\n",
    "Throughout the book, you will see examples of what we call\n",
    "_rational graph visualizations_.\n",
    "One of our authors, Eric Ma, has developed a companion package, `nxviz`,\n",
    "that provides a declarative and convenient API\n",
    "(in other words an attempt at a \"grammar\")\n",
    "for graph visualization.\n",
    "\n",
    "Thirdly, in this book, you will be introduced to basic graph algorithms,\n",
    "such as finding special graph structures,\n",
    "or finding paths in a graph.\n",
    "Graph algorithms will show you how to \"think on graphs\",\n",
    "and knowing how to do so will broaden your ability to interact with\n",
    "graph data structures.\n",
    "\n",
    "Fourthly, you will also be equipped with the connection between graph theory\n",
    "and other areas of math and computing,\n",
    "such as statistical inference and linear algebra.\n",
    "\n",
    "## Intellectual Goals\n",
    "\n",
    "Beyond the technical takeaways,\n",
    "we hope to broaden how you think about data.\n",
    "\n",
    "The first idea we hope to give you\n",
    "the ability to think about your data\n",
    "in terms of \"relationships\".\n",
    "As you will learn,\n",
    "relationships are what give rise to the interestingness of graphs.\n",
    "That's where _relational insights_ can come to fore.\n",
    "\n",
    "The second idea we hope to give you\n",
    "is the ability to \"think on graphs\".\n",
    "This comes with practice.\n",
    "Once you master it, though,\n",
    "you will find yourself becoming more and more familiar\n",
    "with **algorithmic thinking**.\n",
    "which is where you look at a problem\n",
    "in terms of the **algorithm** that solves it.\n"
   ]
  }
 ],
 "metadata": {
  "kernelspec": {
   "display_name": "Python 3 (ipykernel)",
   "language": "python",
   "name": "python3"
  },
  "language_info": {
   "codemirror_mode": {
    "name": "ipython",
    "version": 3
   },
   "file_extension": ".py",
   "mimetype": "text/x-python",
   "name": "python",
   "nbconvert_exporter": "python",
   "pygments_lexer": "ipython3",
   "version": "3.8.15"
  }
 },
 "nbformat": 4,
 "nbformat_minor": 5
}
